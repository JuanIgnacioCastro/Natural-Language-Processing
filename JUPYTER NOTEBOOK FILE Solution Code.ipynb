{
 "cells": [
  {
   "cell_type": "code",
   "execution_count": 1,
   "id": "a35d6a05",
   "metadata": {},
   "outputs": [
    {
     "name": "stdout",
     "output_type": "stream",
     "text": [
      "HELLO. how are you today? fine thanks.\n",
      "HELLO.\n",
      "how are you today?\n",
      "fine thanks.\n"
     ]
    }
   ],
   "source": [
    "import string\n",
    "\n",
    "User_input = input()\n",
    "\n",
    "quoate_flag = 0;\n",
    "quoate_flag2 = 0;\n",
    "sentence = ''\n",
    "\n",
    "for i in range(len(User_input)):\n",
    "    sentence += User_input[i] \n",
    "    if(User_input[i] == '\"'):\n",
    "        quoate_flag += 1\n",
    "    if(User_input[i] == \"'\" and User_input[i+1] != \"s\" ):\n",
    "        quoate_flag2 += 1\n",
    "    if((User_input[i] == '.') and (quoate_flag % 2 == 0) and (quoate_flag2 % 2 == 0)):\n",
    "        if(User_input[i-2] in ['D','M'] and User_input[i-1] == 'r'):\n",
    "            continue\n",
    "        if(User_input[i-2] == \" \" and User_input[i-1] in string.ascii_uppercase):\n",
    "            continue\n",
    "        else:\n",
    "            print(sentence.lstrip())\n",
    "            sentence = ''\n",
    "    if((User_input[i] == '?' or User_input[i] == '!') and (quoate_flag % 2 == 0) and (quoate_flag2 % 2 == 0)):\n",
    "        print(sentence.lstrip())\n",
    "        sentence = ''"
   ]
  }
 ],
 "metadata": {
  "kernelspec": {
   "display_name": "Python 3 (ipykernel)",
   "language": "python",
   "name": "python3"
  },
  "language_info": {
   "codemirror_mode": {
    "name": "ipython",
    "version": 3
   },
   "file_extension": ".py",
   "mimetype": "text/x-python",
   "name": "python",
   "nbconvert_exporter": "python",
   "pygments_lexer": "ipython3",
   "version": "3.11.4"
  }
 },
 "nbformat": 4,
 "nbformat_minor": 5
}
